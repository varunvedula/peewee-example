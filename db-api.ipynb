{
 "cells": [
  {
   "cell_type": "code",
   "execution_count": 14,
   "metadata": {},
   "outputs": [],
   "source": [
    "import sqlite3"
   ]
  },
  {
   "cell_type": "code",
   "execution_count": 15,
   "metadata": {},
   "outputs": [],
   "source": [
    "connection = sqlite3.connect(\"pets.db\")\n",
    "cursor = connection.cursor()"
   ]
  },
  {
   "cell_type": "code",
   "execution_count": 16,
   "metadata": {},
   "outputs": [],
   "source": [
    "cursor.execute(\n",
    "    \"\"\"\n",
    "    create table if not exists kind (\n",
    "        id integer primary key autoincrement,\n",
    "        name text not null,\n",
    "        food text,\n",
    "        sound text\n",
    "    )\n",
    "\"\"\"\n",
    ")\n",
    "\n",
    "connection.commit()"
   ]
  },
  {
   "cell_type": "code",
   "execution_count": 17,
   "metadata": {},
   "outputs": [],
   "source": [
    "cursor.execute(\n",
    "    \"\"\"\n",
    "        insert \n",
    "            into kind(name, food, sound) \n",
    "            values (?,?,?)\n",
    "        \"\"\",\n",
    "    (\"dog\", \"dogfood\", \"bark\"),\n",
    ")\n",
    "connection.commit()"
   ]
  },
  {
   "cell_type": "code",
   "execution_count": 18,
   "metadata": {},
   "outputs": [],
   "source": [
    "cursor.execute(\n",
    "    \"\"\"\n",
    "        insert \n",
    "            into kind(name, food, sound) \n",
    "            values (?,?,?)\n",
    "        \"\"\",\n",
    "    (\"cat\", \"catfood\", \"meow\"),\n",
    ")\n",
    "connection.commit()"
   ]
  },
  {
   "cell_type": "code",
   "execution_count": 19,
   "metadata": {},
   "outputs": [],
   "source": [
    "cursor.execute(\n",
    "    \"\"\"\n",
    "    create table if not exists pet (\n",
    "        id integer primary key autoincrement,\n",
    "        name text not null,\n",
    "        kind_id integer,\n",
    "        age integer,\n",
    "        owner text\n",
    "    )\n",
    "\"\"\"\n",
    ")\n",
    "\n",
    "connection.commit()"
   ]
  },
  {
   "cell_type": "code",
   "execution_count": 20,
   "metadata": {},
   "outputs": [],
   "source": [
    "for name in [\"dorothy\", \"suzy\", \"casey\", \"heidi\"]:\n",
    "    cursor.execute(\n",
    "        \"\"\"\n",
    "        insert \n",
    "            into pet(name, kind_id, age, owner) \n",
    "            values (?,?,?,?)\n",
    "        \"\"\",\n",
    "        (name, 1, 9, \"greg\"),\n",
    "    )\n",
    "    connection.commit()"
   ]
  },
  {
   "cell_type": "code",
   "execution_count": 21,
   "metadata": {},
   "outputs": [],
   "source": [
    "for name in [\"sandy\", \"muffin\", \"shadow\"]:\n",
    "    cursor.execute(\n",
    "        \"\"\"\n",
    "        insert \n",
    "            into pet(name, kind_id, age, owner) \n",
    "            values (?,?,?,?)\n",
    "        \"\"\",\n",
    "        (name, 2, 9, \"greg\"),\n",
    "    )\n",
    "    connection.commit()"
   ]
  },
  {
   "cell_type": "code",
   "execution_count": 22,
   "metadata": {},
   "outputs": [
    {
     "name": "stdout",
     "output_type": "stream",
     "text": [
      "(1, 'dorothy', 1, 9, 'greg')\n",
      "(2, 'suzy', 1, 9, 'greg')\n",
      "(3, 'casey', 1, 9, 'greg')\n",
      "(4, 'heidi', 1, 9, 'greg')\n"
     ]
    }
   ],
   "source": [
    "cursor.execute(\"\"\"select * from pet where kind_id=?\"\"\", (1,))\n",
    "rows = cursor.fetchall()\n",
    "for row in rows:\n",
    "    print(row)"
   ]
  },
  {
   "cell_type": "code",
   "execution_count": 25,
   "metadata": {},
   "outputs": [
    {
     "name": "stdout",
     "output_type": "stream",
     "text": [
      "(1, 'dorothy', 1, 9, 'greg', 1, 'dog', 'dogfood', 'bark')\n",
      "(2, 'suzy', 1, 9, 'greg', 1, 'dog', 'dogfood', 'bark')\n",
      "(3, 'casey', 1, 9, 'greg', 1, 'dog', 'dogfood', 'bark')\n",
      "(4, 'heidi', 1, 9, 'greg', 1, 'dog', 'dogfood', 'bark')\n",
      "(5, 'sandy', 2, 9, 'greg', 2, 'cat', 'catfood', 'meow')\n",
      "(6, 'muffin', 2, 9, 'greg', 2, 'cat', 'catfood', 'meow')\n",
      "(7, 'shadow', 2, 9, 'greg', 2, 'cat', 'catfood', 'meow')\n"
     ]
    }
   ],
   "source": [
    "cursor.execute(\"\"\"select * from pet, kind where pet.kind_id=kind.id\"\"\", ())\n",
    "rows = cursor.fetchall()\n",
    "for row in rows:\n",
    "    print(row)"
   ]
  },
  {
   "cell_type": "code",
   "execution_count": 11,
   "metadata": {},
   "outputs": [],
   "source": [
    "cursor.execute(\"\"\"\n",
    "    update pet\n",
    "    set age = ? \n",
    "    where name = ?\n",
    "    \"\"\", (11,\"sandy\"))\n",
    "connection.commit()"
   ]
  },
  {
   "cell_type": "code",
   "execution_count": 13,
   "metadata": {},
   "outputs": [],
   "source": [
    "cursor.execute(\"\"\"\n",
    "    delete from pet\n",
    "    where type = ?\n",
    "    \"\"\", (\"cat\",))\n",
    "connection.commit()"
   ]
  }
 ],
 "metadata": {
  "language_info": {
   "name": "python"
  }
 },
 "nbformat": 4,
 "nbformat_minor": 2
}
